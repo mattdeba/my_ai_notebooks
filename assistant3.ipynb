{
 "cells": [
  {
   "cell_type": "code",
   "execution_count": 1,
   "id": "f50d41d2-4798-4b68-81e0-764a07abcbe6",
   "metadata": {},
   "outputs": [],
   "source": [
    "import os\n",
    "import dotenv\n",
    "import openai\n",
    "import json\n",
    "dotenv.load_dotenv()\n",
    "client = openai.OpenAI()"
   ]
  },
  {
   "cell_type": "code",
   "execution_count": 3,
   "id": "a135b038-96dd-453e-a48b-5de772b128b1",
   "metadata": {},
   "outputs": [],
   "source": [
    "import json\n",
    "\n",
    "def show_json(obj):\n",
    "    display(json.loads(obj.model_dump_json()))"
   ]
  },
  {
   "cell_type": "code",
   "execution_count": 4,
   "id": "850a0d6f-0304-4f1a-9ffd-11984edc5c4b",
   "metadata": {},
   "outputs": [
    {
     "data": {
      "text/plain": [
       "{'id': 'asst_2ha0KKhIfPfGn0OgQWJjRIGx',\n",
       " 'created_at': 1700753242,\n",
       " 'description': None,\n",
       " 'file_ids': [],\n",
       " 'instructions': 'Tu es un humoriste français qui fait des blagues courtes concises et efficaces.',\n",
       " 'metadata': {},\n",
       " 'model': 'gpt-3.5-turbo',\n",
       " 'name': 'Humoriste',\n",
       " 'object': 'assistant',\n",
       " 'tools': []}"
      ]
     },
     "metadata": {},
     "output_type": "display_data"
    }
   ],
   "source": [
    "assistant = client.beta.assistants.create(\n",
    "    name=\"Humoriste\",\n",
    "    instructions=\"Tu es un humoriste français qui fait des blagues courtes concises et efficaces.\",\n",
    "    model=\"gpt-3.5-turbo\",\n",
    ")\n",
    "show_json(assistant)"
   ]
  },
  {
   "cell_type": "code",
   "execution_count": 5,
   "id": "17959129-9ab6-48b1-b596-fe65b9af7b5c",
   "metadata": {},
   "outputs": [],
   "source": [
    "MY_ASSISTANT_ID = assistant.id  # or a hard-coded ID like \"asst-...\""
   ]
  },
  {
   "cell_type": "code",
   "execution_count": 6,
   "id": "62f82b86-c0cb-4be8-a62d-8806a0cfe114",
   "metadata": {},
   "outputs": [],
   "source": [
    "def submit_message(assistant_id, thread, user_message):\n",
    "    client.beta.threads.messages.create(\n",
    "        thread_id=thread.id, role=\"user\", content=user_message\n",
    "    )\n",
    "    return client.beta.threads.runs.create(\n",
    "        thread_id=thread.id,\n",
    "        assistant_id=assistant_id,\n",
    "    )\n",
    "\n",
    "\n",
    "def get_response(thread):\n",
    "    return client.beta.threads.messages.list(thread_id=thread.id, order=\"asc\")\n",
    "\n",
    "def create_thread_and_run(user_input):\n",
    "    thread = client.beta.threads.create()\n",
    "    run = submit_message(MY_ASSISTANT_ID, thread, user_input)\n",
    "    return thread, run\n",
    "\n",
    "def append_message_and_create_run(thread, user_input):\n",
    "    client.beta.threads.messages.create(\n",
    "        thread_id=thread.id, role=\"user\", content=user_input\n",
    "    )\n",
    "    return client.beta.threads.runs.create(\n",
    "        thread_id=thread.id,\n",
    "        assistant_id=MY_ASSISTANT_ID,\n",
    "    )\n",
    "\n",
    "import time\n",
    "\n",
    "# Pretty printing helper\n",
    "def pretty_print(messages):\n",
    "    print(\"# Messages\")\n",
    "    for m in messages:\n",
    "        print(f\"{m.role}: {m.content[0].text.value}\")\n",
    "    print()\n",
    "\n",
    "\n",
    "# Waiting in a loop\n",
    "def wait_on_run(run, thread):\n",
    "    while run.status == \"queued\" or run.status == \"in_progress\":\n",
    "        run = client.beta.threads.runs.retrieve(\n",
    "            thread_id=thread.id,\n",
    "            run_id=run.id,\n",
    "        )\n",
    "        time.sleep(0.5)\n",
    "    return run"
   ]
  },
  {
   "cell_type": "code",
   "execution_count": 7,
   "id": "1a0fd997-062d-4ded-81ae-d97c828651b7",
   "metadata": {},
   "outputs": [],
   "source": [
    "thread1, run1 = create_thread_and_run(\"Fais moi une blague originale et très drole qui séduira à coup sur les personnes qui travaillent dans l'informatique.\")"
   ]
  },
  {
   "cell_type": "code",
   "execution_count": 8,
   "id": "9f1505d9-559d-43c8-a173-41be1b643ca7",
   "metadata": {},
   "outputs": [],
   "source": [
    "run1 = wait_on_run(run1, thread1)"
   ]
  },
  {
   "cell_type": "code",
   "execution_count": 9,
   "id": "dbd51f2c-e4c3-47cd-9fbe-47412e64f87e",
   "metadata": {},
   "outputs": [
    {
     "name": "stdout",
     "output_type": "stream",
     "text": [
      "# Messages\n",
      "user: Fais moi une blague originale et très drole qui séduira à coup sur les personnes qui travaillent dans l'informatique.\n",
      "assistant: Pourquoi les informaticiens détestent-ils les arbres ?\n",
      "Parce que les arbres ont trop de \"branches\", et eux préfèrent le code bien \"brunché\" !\n",
      "\n"
     ]
    }
   ],
   "source": [
    "pretty_print(get_response(thread1))"
   ]
  },
  {
   "cell_type": "code",
   "execution_count": 10,
   "id": "3b147577-31de-43f1-a512-29d31a0e8d40",
   "metadata": {},
   "outputs": [],
   "source": [
    "run2 = append_message_and_create_run(thread1, \"explique moi la blague que tu viens de faire en détail\")"
   ]
  },
  {
   "cell_type": "code",
   "execution_count": 11,
   "id": "4dd710eb-6399-4dd4-8da4-c34349405099",
   "metadata": {},
   "outputs": [],
   "source": [
    "run2 = wait_on_run(run2, thread1)"
   ]
  },
  {
   "cell_type": "code",
   "execution_count": 12,
   "id": "bb0b189f-70b8-4238-b56b-227b41f28817",
   "metadata": {},
   "outputs": [
    {
     "name": "stdout",
     "output_type": "stream",
     "text": [
      "# Messages\n",
      "user: Fais moi une blague originale et très drole qui séduira à coup sur les personnes qui travaillent dans l'informatique.\n",
      "assistant: Pourquoi les informaticiens détestent-ils les arbres ?\n",
      "Parce que les arbres ont trop de \"branches\", et eux préfèrent le code bien \"brunché\" !\n",
      "user: explique moi la blague que tu viens de faire en détail\n",
      "assistant: Bien sûr, avec plaisir ! Dans le domaine de l'informatique, le terme \"branche\" est utilisé pour désigner une partie d'un programme qui permet de prendre différentes directions en fonction de certaines conditions. C'est un concept clé dans la programmation. \n",
      "\n",
      "Dans la blague, on joue sur la double signification du mot \"branche\". D'un côté, on a les \"branches\" des arbres, c'est-à-dire les parties qui se séparent du tronc principal. D'un autre côté, on a le terme informatique \"brunché\" qui est un jeu de mots avec \"branché\". En informatique, avoir un code \"bien branché\" signifie que le programme est bien structuré, avec des branches claires et logiques.\n",
      "\n",
      "Ainsi, la blague met en opposition les \"branches\" des arbres, perçues comme trop nombreuses et complexes, avec les \"brunches\" (code bien structuré) que les informaticiens apprécient. L'humour vient du décalage entre les deux sens du mot \"branche\" et du jeu de mots entre \"brunché\" et \"branché\".\n",
      "\n",
      "J'espère que cette explication détaillée t'aidera à mieux comprendre la blague !\n",
      "\n"
     ]
    }
   ],
   "source": [
    "pretty_print(get_response(thread1))"
   ]
  }
 ],
 "metadata": {
  "kernelspec": {
   "display_name": "venv",
   "language": "python",
   "name": "venv"
  },
  "language_info": {
   "codemirror_mode": {
    "name": "ipython",
    "version": 3
   },
   "file_extension": ".py",
   "mimetype": "text/x-python",
   "name": "python",
   "nbconvert_exporter": "python",
   "pygments_lexer": "ipython3",
   "version": "3.10.10"
  }
 },
 "nbformat": 4,
 "nbformat_minor": 5
}
