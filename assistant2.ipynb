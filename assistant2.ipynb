{
 "cells": [
  {
   "cell_type": "code",
   "execution_count": 1,
   "id": "12c6c073-6173-4562-8210-2807b1f91a3a",
   "metadata": {},
   "outputs": [],
   "source": [
    "import os\n",
    "import dotenv\n",
    "import openai\n",
    "import json\n",
    "dotenv.load_dotenv()\n",
    "client = openai.OpenAI()"
   ]
  },
  {
   "cell_type": "code",
   "execution_count": 6,
   "id": "5a01814e-9d2e-4267-9651-c0b8045711c8",
   "metadata": {},
   "outputs": [],
   "source": [
    "import json\n",
    "\n",
    "def show_json(obj):\n",
    "    display(json.loads(obj.model_dump_json()))"
   ]
  },
  {
   "cell_type": "code",
   "execution_count": 9,
   "id": "68bf4620-8ae1-46e4-93e5-bad698e632ef",
   "metadata": {},
   "outputs": [
    {
     "data": {
      "text/plain": [
       "{'id': 'asst_KlynDMB3bxL2mF75fnORQqca',\n",
       " 'created_at': 1700749902,\n",
       " 'description': None,\n",
       " 'file_ids': [],\n",
       " 'instructions': 'Tu es un humoriste français qui fait des blagues courtes concises et efficaces.',\n",
       " 'metadata': {},\n",
       " 'model': 'gpt-3.5-turbo',\n",
       " 'name': 'Math Tutor',\n",
       " 'object': 'assistant',\n",
       " 'tools': []}"
      ]
     },
     "metadata": {},
     "output_type": "display_data"
    }
   ],
   "source": [
    "assistant = client.beta.assistants.create(\n",
    "    name=\"Math Tutor\",\n",
    "    instructions=\"Tu es un humoriste français qui fait des blagues courtes concises et efficaces.\",\n",
    "    model=\"gpt-3.5-turbo\",\n",
    ")\n",
    "show_json(assistant)"
   ]
  },
  {
   "cell_type": "code",
   "execution_count": 12,
   "id": "4c04fc7d-805c-4b7b-8472-82c94a2719c6",
   "metadata": {},
   "outputs": [],
   "source": [
    "MATH_ASSISTANT_ID = assistant.id  # or a hard-coded ID like \"asst-...\""
   ]
  },
  {
   "cell_type": "code",
   "execution_count": 10,
   "id": "27614db7-6c54-4117-af72-82ec30dc59a9",
   "metadata": {},
   "outputs": [],
   "source": [
    "def submit_message(assistant_id, thread, user_message):\n",
    "    client.beta.threads.messages.create(\n",
    "        thread_id=thread.id, role=\"user\", content=user_message\n",
    "    )\n",
    "    return client.beta.threads.runs.create(\n",
    "        thread_id=thread.id,\n",
    "        assistant_id=assistant_id,\n",
    "    )\n",
    "\n",
    "\n",
    "def get_response(thread):\n",
    "    return client.beta.threads.messages.list(thread_id=thread.id, order=\"asc\")"
   ]
  },
  {
   "cell_type": "code",
   "execution_count": 13,
   "id": "ebf572da-369f-4208-8a19-8debb8dcd7bd",
   "metadata": {},
   "outputs": [],
   "source": [
    "def create_thread_and_run(user_input):\n",
    "    thread = client.beta.threads.create()\n",
    "    run = submit_message(MATH_ASSISTANT_ID, thread, user_input)\n",
    "    return thread, run\n",
    "\n",
    "\n",
    "# Emulating concurrent user requests\n",
    "thread1, run1 = create_thread_and_run(\n",
    "    \"Fais moi une blague\"\n",
    ")"
   ]
  },
  {
   "cell_type": "code",
   "execution_count": 24,
   "id": "08627db7-9a16-4f04-bf83-7b98d2bc8baa",
   "metadata": {},
   "outputs": [],
   "source": [
    "def append_message_and_create_run(thread, user_input):\n",
    "    client.beta.threads.messages.create(\n",
    "        thread_id=thread.id, role=\"user\", content=user_input\n",
    "    )\n",
    "    return client.beta.threads.runs.create(\n",
    "        thread_id=thread.id,\n",
    "        assistant_id=MATH_ASSISTANT_ID,\n",
    "    )\n",
    "    "
   ]
  },
  {
   "cell_type": "code",
   "execution_count": 14,
   "id": "1bba566e-9f9b-43dd-a4e8-89e5fb9efc51",
   "metadata": {},
   "outputs": [],
   "source": [
    "import time\n",
    "\n",
    "# Pretty printing helper\n",
    "def pretty_print(messages):\n",
    "    print(\"# Messages\")\n",
    "    for m in messages:\n",
    "        print(f\"{m.role}: {m.content[0].text.value}\")\n",
    "    print()\n",
    "\n",
    "\n",
    "# Waiting in a loop\n",
    "def wait_on_run(run, thread):\n",
    "    while run.status == \"queued\" or run.status == \"in_progress\":\n",
    "        run = client.beta.threads.runs.retrieve(\n",
    "            thread_id=thread.id,\n",
    "            run_id=run.id,\n",
    "        )\n",
    "        time.sleep(0.5)\n",
    "    return run"
   ]
  },
  {
   "cell_type": "code",
   "execution_count": 15,
   "id": "fba78c53-6d41-482b-9874-1b29422bc754",
   "metadata": {},
   "outputs": [
    {
     "name": "stdout",
     "output_type": "stream",
     "text": [
      "# Messages\n",
      "user: Fais moi une blague\n",
      "assistant: Bien sûr ! Voici une blague courte pour toi :\n",
      "\n",
      "Pourquoi les plongeurs plongent-ils toujours en arrière et jamais en avant ? Parce que sinon ils tombent dans le bateau !\n",
      "\n"
     ]
    }
   ],
   "source": [
    "# Wait for Run 1\n",
    "run1 = wait_on_run(run1, thread1)\n",
    "pretty_print(get_response(thread1))"
   ]
  },
  {
   "cell_type": "code",
   "execution_count": 16,
   "id": "1b3e4d5f-1bde-47c6-b2b7-b346965dc81e",
   "metadata": {},
   "outputs": [
    {
     "data": {
      "text/plain": [
       "ThreadMessage(id='msg_dV80GnqniQ8XKUQB1zh1EpbK', assistant_id=None, content=[MessageContentText(text=Text(annotations=[], value='explique moi la blague que tu viens de faire en détail'), type='text')], created_at=1700750539, file_ids=[], metadata={}, object='thread.message', role='user', run_id=None, thread_id='thread_vnvLgpApSxPvibjy1X29NgtC')"
      ]
     },
     "execution_count": 16,
     "metadata": {},
     "output_type": "execute_result"
    }
   ],
   "source": [
    "client.beta.threads.messages.create(\n",
    "    thread_id=thread1.id, role=\"user\", content=\"explique moi la blague que tu viens de faire en détail\"\n",
    ")"
   ]
  },
  {
   "cell_type": "code",
   "execution_count": 20,
   "id": "3c7f2fce-1b0e-49ac-901b-901a49960314",
   "metadata": {},
   "outputs": [],
   "source": [
    "# Execute our run\n",
    "run2 = client.beta.threads.runs.create(\n",
    "    thread_id=thread1.id,\n",
    "    assistant_id=MATH_ASSISTANT_ID,\n",
    ")"
   ]
  },
  {
   "cell_type": "code",
   "execution_count": 22,
   "id": "9e81bbad-6eab-49d2-8d20-81ed828c876d",
   "metadata": {},
   "outputs": [],
   "source": [
    "run2 = wait_on_run(run2, thread1)"
   ]
  },
  {
   "cell_type": "code",
   "execution_count": 23,
   "id": "730cbd98-27d7-4a50-8620-70c20b76ec71",
   "metadata": {},
   "outputs": [
    {
     "name": "stdout",
     "output_type": "stream",
     "text": [
      "# Messages\n",
      "user: Fais moi une blague\n",
      "assistant: Bien sûr ! Voici une blague courte pour toi :\n",
      "\n",
      "Pourquoi les plongeurs plongent-ils toujours en arrière et jamais en avant ? Parce que sinon ils tombent dans le bateau !\n",
      "user: explique moi la blague que tu viens de faire en détail\n",
      "assistant: Bien sûr, laisse-moi te l'expliquer plus en détail :\n",
      "\n",
      "La blague repose sur une petite absurdité qui est que les plongeurs ne plongent pas en avant, mais toujours en arrière. L'humour réside dans le fait que normalement, lorsque quelqu'un saute ou plonge, il le fait en avant, en direction de l'eau ou du sol. Cependant, dans le cas des plongeurs, ils doivent faire exactement le contraire pour éviter de tomber dans le bateau.\n",
      "\n",
      "C'est une blague qui joue sur l'inattendu et la logique inversée, ce qui fait sourire.\n",
      "\n"
     ]
    }
   ],
   "source": [
    "pretty_print(get_response(thread1))"
   ]
  },
  {
   "cell_type": "code",
   "execution_count": 25,
   "id": "8e3b18e7-8cfe-41b0-948d-a4dfc380f04a",
   "metadata": {},
   "outputs": [],
   "source": [
    "run3 = append_message_and_create_run(thread1, \"explique moi plus longuement pourquoi c'est drole\")"
   ]
  },
  {
   "cell_type": "code",
   "execution_count": null,
   "id": "28050a1d-a8f5-4e2a-bf0f-d9eb991b9df2",
   "metadata": {},
   "outputs": [],
   "source": [
    "run3 = wait_on_run(run3, thread1)"
   ]
  },
  {
   "cell_type": "code",
   "execution_count": 28,
   "id": "a23cc72c-bfa2-45d2-8209-871fe9c0a9bd",
   "metadata": {},
   "outputs": [
    {
     "name": "stdout",
     "output_type": "stream",
     "text": [
      "# Messages\n",
      "user: Fais moi une blague\n",
      "assistant: Bien sûr ! Voici une blague courte pour toi :\n",
      "\n",
      "Pourquoi les plongeurs plongent-ils toujours en arrière et jamais en avant ? Parce que sinon ils tombent dans le bateau !\n",
      "user: explique moi la blague que tu viens de faire en détail\n",
      "assistant: Bien sûr, laisse-moi te l'expliquer plus en détail :\n",
      "\n",
      "La blague repose sur une petite absurdité qui est que les plongeurs ne plongent pas en avant, mais toujours en arrière. L'humour réside dans le fait que normalement, lorsque quelqu'un saute ou plonge, il le fait en avant, en direction de l'eau ou du sol. Cependant, dans le cas des plongeurs, ils doivent faire exactement le contraire pour éviter de tomber dans le bateau.\n",
      "\n",
      "C'est une blague qui joue sur l'inattendu et la logique inversée, ce qui fait sourire.\n",
      "user: explique moi plus longuement pourquoi c'est drole\n",
      "assistant: Bien sûr, avec plaisir ! La blague repose principalement sur l'effet de surprise et l'inversion d'une situation normale.\n",
      "\n",
      "Lorsque l'on pense à un plongeur, on s'imagine généralement quelqu'un qui saute ou plonge en avant dans l'eau, car c'est la façon la plus courante de le faire. Mais, en affirmant que les plongeurs plongent toujours en arrière, la blague crée une rupture avec cette perception habituelle et attendue.\n",
      "\n",
      "Le fait que les plongeurs plongent en arrière est en réalité une règle de sécurité pour éviter les accidents ou les blessures, car plonger en avant près d'un bateau pourrait entraîner des chutes dans celui-ci, ce qui serait assez comique et embarrassant pour le plongeur.\n",
      "\n",
      "Ainsi, le comique de la blague réside dans cette opposition entre l'action habituellement attendue, qui serait de plonger en avant, et l'action réelle, qui est de plonger en arrière. Cela crée une situation inattendue et une absurdité légèrement exagérée qui prête à sourire.\n",
      "\n",
      "En somme, c'est une blague simple, mais efficace, qui joue sur l'humour de l'inattendu et de la contradiction entre une attente commune et la réalité.\n",
      "\n"
     ]
    }
   ],
   "source": [
    "pretty_print(get_response(thread1))"
   ]
  },
  {
   "cell_type": "code",
   "execution_count": 18,
   "id": "dcc6063b-b0f0-4a60-8dd8-d60546128d08",
   "metadata": {},
   "outputs": [
    {
     "name": "stdout",
     "output_type": "stream",
     "text": [
      "# Messages\n",
      "user: Fais moi une blague\n",
      "assistant: Bien sûr ! Voici une blague courte pour toi :\n",
      "\n",
      "Pourquoi les plongeurs plongent-ils toujours en arrière et jamais en avant ? Parce que sinon ils tombent dans le bateau !\n",
      "user: explique moi la blague que tu viens de faire en détail\n",
      "\n"
     ]
    }
   ],
   "source": [
    "# Wait for Run 1\n",
    "run1 = wait_on_run(run1, thread1)\n",
    "pretty_print(get_response(thread1))"
   ]
  },
  {
   "cell_type": "code",
   "execution_count": null,
   "id": "b5013a87-2f4b-48be-b3bc-2068278ff671",
   "metadata": {},
   "outputs": [],
   "source": []
  },
  {
   "cell_type": "code",
   "execution_count": null,
   "id": "befb14fc-9bc7-4330-942a-7e9af09b78ac",
   "metadata": {},
   "outputs": [],
   "source": []
  },
  {
   "cell_type": "code",
   "execution_count": null,
   "id": "50e171d8-c31e-4eb5-bca6-4ca384998235",
   "metadata": {},
   "outputs": [],
   "source": []
  },
  {
   "cell_type": "code",
   "execution_count": null,
   "id": "4266eb43-c9c0-4d3b-ba45-e2f9104dacbb",
   "metadata": {},
   "outputs": [],
   "source": []
  },
  {
   "cell_type": "code",
   "execution_count": null,
   "id": "f768054e-db8a-4f94-94a6-62328b7ec0e3",
   "metadata": {},
   "outputs": [],
   "source": [
    "# Wait for Run 2\n",
    "run2 = wait_on_run(run2, thread2)\n",
    "pretty_print(get_response(thread2))"
   ]
  },
  {
   "cell_type": "code",
   "execution_count": null,
   "id": "92679fcf-3c93-47d3-a9b5-bcd52e7ee6c1",
   "metadata": {},
   "outputs": [],
   "source": [
    "thread2, run2 = create_thread_and_run(\"Could you explain linear algebra to me?\")"
   ]
  }
 ],
 "metadata": {
  "kernelspec": {
   "display_name": "venv",
   "language": "python",
   "name": "venv"
  },
  "language_info": {
   "codemirror_mode": {
    "name": "ipython",
    "version": 3
   },
   "file_extension": ".py",
   "mimetype": "text/x-python",
   "name": "python",
   "nbconvert_exporter": "python",
   "pygments_lexer": "ipython3",
   "version": "3.10.10"
  }
 },
 "nbformat": 4,
 "nbformat_minor": 5
}
