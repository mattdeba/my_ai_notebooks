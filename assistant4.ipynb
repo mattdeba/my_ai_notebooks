{
 "cells": [
  {
   "cell_type": "code",
   "execution_count": 15,
   "id": "641536d0-0ae8-4745-a1f9-950a08812412",
   "metadata": {},
   "outputs": [],
   "source": [
    "import os\n",
    "import dotenv\n",
    "import openai\n",
    "import json\n",
    "dotenv.load_dotenv()\n",
    "client = openai.OpenAI()"
   ]
  },
  {
   "cell_type": "code",
   "execution_count": 2,
   "id": "3edccee6-0215-49e8-9b24-4d356ad4b028",
   "metadata": {},
   "outputs": [],
   "source": [
    "def show_json(obj):\n",
    "    display(json.loads(obj.model_dump_json()))\n",
    "   "
   ]
  },
  {
   "cell_type": "code",
   "execution_count": 3,
   "id": "b059a5f0-c4b9-4fe1-84b8-2dcdbc22d411",
   "metadata": {},
   "outputs": [],
   "source": [
    "file = client.files.create(\n",
    "    file=open(\n",
    "        \"test.xlsx\",\n",
    "        \"rb\",\n",
    "    ),\n",
    "    purpose=\"assistants\",\n",
    ")"
   ]
  },
  {
   "cell_type": "code",
   "execution_count": 4,
   "id": "db7b6d09-45ee-4d0a-9aaa-ffa166c69a93",
   "metadata": {},
   "outputs": [
    {
     "data": {
      "text/plain": [
       "{'id': 'asst_RuYu0xbZH5P4Mx7LGNDI8mTS',\n",
       " 'created_at': 1700755233,\n",
       " 'description': None,\n",
       " 'file_ids': ['file-uCuPD3CrpKCQEwp9H0nbQz5o'],\n",
       " 'instructions': 'Tu es un expert pour analyser des documents excel tu le fais de manière simple et efficace.',\n",
       " 'metadata': {},\n",
       " 'model': 'gpt-4-1106-preview',\n",
       " 'name': 'Analyste',\n",
       " 'object': 'assistant',\n",
       " 'tools': [{'type': 'code_interpreter'}, {'type': 'retrieval'}]}"
      ]
     },
     "metadata": {},
     "output_type": "display_data"
    }
   ],
   "source": [
    "assistant = client.beta.assistants.create(\n",
    "    name=\"Analyste\",\n",
    "    instructions=\"\"\"Tu es un expert pour analyser des documents excel tu le fais de manière simple et efficace.\"\"\",\n",
    "    model=\"gpt-4-1106-preview\",\n",
    "    file_ids=[file.id],\n",
    "    tools=[{\"type\": \"code_interpreter\"}, {\"type\": \"retrieval\"}],\n",
    "    \n",
    ")\n",
    "MY_ASSISTANT_ID = assistant.id  # or a hard-coded ID like \"asst-...\"\n",
    "show_json(assistant)"
   ]
  },
  {
   "cell_type": "code",
   "execution_count": 5,
   "id": "9589e0bf-0be1-422f-a37e-c4a6c1847939",
   "metadata": {},
   "outputs": [],
   "source": [
    "\n",
    "def submit_message(assistant_id, thread, user_message):\n",
    "    client.beta.threads.messages.create(\n",
    "        thread_id=thread.id, role=\"user\", content=user_message\n",
    "    )\n",
    "    return client.beta.threads.runs.create(\n",
    "        thread_id=thread.id,\n",
    "        assistant_id=assistant_id,\n",
    "    )\n",
    "\n",
    "\n",
    "def get_response(thread):\n",
    "    return client.beta.threads.messages.list(thread_id=thread.id, order=\"asc\")\n",
    "\n",
    "def create_thread_and_run(user_input):\n",
    "    thread = client.beta.threads.create()\n",
    "    run = submit_message(MY_ASSISTANT_ID, thread, user_input)\n",
    "    return thread, run\n",
    "\n",
    "def append_message_and_create_run(thread, user_input):\n",
    "    client.beta.threads.messages.create(\n",
    "        thread_id=thread.id, role=\"user\", content=user_input\n",
    "    )\n",
    "    return client.beta.threads.runs.create(\n",
    "        thread_id=thread.id,\n",
    "        assistant_id=MY_ASSISTANT_ID,\n",
    "    )\n",
    "\n",
    "import time\n",
    "\n",
    "# Pretty printing helper\n",
    "def pretty_print(messages):\n",
    "    print(\"# Messages\")\n",
    "    for m in messages:\n",
    "        print(f\"{m.role}: {m.content[0].text.value}\")\n",
    "    print()\n",
    "\n",
    "\n",
    "# Waiting in a loop\n",
    "def wait_on_run(run, thread):\n",
    "    while run.status == \"queued\" or run.status == \"in_progress\":\n",
    "        run = client.beta.threads.runs.retrieve(\n",
    "            thread_id=thread.id,\n",
    "            run_id=run.id,\n",
    "        )\n",
    "        time.sleep(0.5)\n",
    "    return run    "
   ]
  },
  {
   "cell_type": "code",
   "execution_count": 6,
   "id": "70ade6f9-c428-46f1-90d9-133937e578a8",
   "metadata": {},
   "outputs": [],
   "source": [
    "thread1, run1 = create_thread_and_run(\"\"\"Fais moi une liste de tout ce que l'on peut savoir sur la cuma avec le numéro de siret 42040023600014\n",
    "et renvoie moi les valeurs associées\"\"\")"
   ]
  },
  {
   "cell_type": "code",
   "execution_count": 8,
   "id": "21c11c59-6dbf-45b0-9ffe-85dabaff7bed",
   "metadata": {},
   "outputs": [
    {
     "ename": "KeyboardInterrupt",
     "evalue": "",
     "output_type": "error",
     "traceback": [
      "\u001b[1;31m---------------------------------------------------------------------------\u001b[0m",
      "\u001b[1;31mKeyboardInterrupt\u001b[0m                         Traceback (most recent call last)",
      "Cell \u001b[1;32mIn[8], line 1\u001b[0m\n\u001b[1;32m----> 1\u001b[0m run1 \u001b[38;5;241m=\u001b[39m \u001b[43mwait_on_run\u001b[49m\u001b[43m(\u001b[49m\u001b[43mrun1\u001b[49m\u001b[43m,\u001b[49m\u001b[43m \u001b[49m\u001b[43mthread1\u001b[49m\u001b[43m)\u001b[49m\n",
      "Cell \u001b[1;32mIn[5], line 45\u001b[0m, in \u001b[0;36mwait_on_run\u001b[1;34m(run, thread)\u001b[0m\n\u001b[0;32m     40\u001b[0m \u001b[38;5;28;01mwhile\u001b[39;00m run\u001b[38;5;241m.\u001b[39mstatus \u001b[38;5;241m==\u001b[39m \u001b[38;5;124m\"\u001b[39m\u001b[38;5;124mqueued\u001b[39m\u001b[38;5;124m\"\u001b[39m \u001b[38;5;129;01mor\u001b[39;00m run\u001b[38;5;241m.\u001b[39mstatus \u001b[38;5;241m==\u001b[39m \u001b[38;5;124m\"\u001b[39m\u001b[38;5;124min_progress\u001b[39m\u001b[38;5;124m\"\u001b[39m:\n\u001b[0;32m     41\u001b[0m     run \u001b[38;5;241m=\u001b[39m client\u001b[38;5;241m.\u001b[39mbeta\u001b[38;5;241m.\u001b[39mthreads\u001b[38;5;241m.\u001b[39mruns\u001b[38;5;241m.\u001b[39mretrieve(\n\u001b[0;32m     42\u001b[0m         thread_id\u001b[38;5;241m=\u001b[39mthread\u001b[38;5;241m.\u001b[39mid,\n\u001b[0;32m     43\u001b[0m         run_id\u001b[38;5;241m=\u001b[39mrun\u001b[38;5;241m.\u001b[39mid,\n\u001b[0;32m     44\u001b[0m     )\n\u001b[1;32m---> 45\u001b[0m     \u001b[43mtime\u001b[49m\u001b[38;5;241;43m.\u001b[39;49m\u001b[43msleep\u001b[49m\u001b[43m(\u001b[49m\u001b[38;5;241;43m0.5\u001b[39;49m\u001b[43m)\u001b[49m\n\u001b[0;32m     46\u001b[0m \u001b[38;5;28;01mreturn\u001b[39;00m run\n",
      "\u001b[1;31mKeyboardInterrupt\u001b[0m: "
     ]
    }
   ],
   "source": [
    "run1 = wait_on_run(run1, thread1)"
   ]
  },
  {
   "cell_type": "code",
   "execution_count": null,
   "id": "8b43c6b4-105f-4b8d-8946-0162b5e123be",
   "metadata": {},
   "outputs": [],
   "source": [
    "pretty_print(get_response(thread1))"
   ]
  }
 ],
 "metadata": {
  "kernelspec": {
   "display_name": "venv",
   "language": "python",
   "name": "venv"
  },
  "language_info": {
   "codemirror_mode": {
    "name": "ipython",
    "version": 3
   },
   "file_extension": ".py",
   "mimetype": "text/x-python",
   "name": "python",
   "nbconvert_exporter": "python",
   "pygments_lexer": "ipython3",
   "version": "3.10.10"
  }
 },
 "nbformat": 4,
 "nbformat_minor": 5
}
