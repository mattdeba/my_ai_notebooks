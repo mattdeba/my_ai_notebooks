{
 "cells": [
  {
   "cell_type": "code",
   "execution_count": 1,
   "id": "2f9c6792-4e94-490a-a3c2-76ab4bac64b2",
   "metadata": {},
   "outputs": [],
   "source": [
    "import os\n",
    "import dotenv\n",
    "import openai\n",
    "import json\n",
    "dotenv.load_dotenv()\n",
    "client = openai.OpenAI()"
   ]
  },
  {
   "cell_type": "code",
   "execution_count": 1,
   "id": "108e1785-7af8-456a-8d6c-cef64b10479d",
   "metadata": {},
   "outputs": [],
   "source": [
    "def show_json(obj):\n",
    "    display(json.loads(obj.model_dump_json()))"
   ]
  },
  {
   "cell_type": "code",
   "execution_count": 9,
   "id": "925705a4-22b0-4c99-af7e-ee8580f97534",
   "metadata": {},
   "outputs": [],
   "source": [
    "myIntern = client.beta.assistants.create(\n",
    "    name=\"Professional developer\",\n",
    "    instructions=\"You are a professional developer, answer questions step by step, give concise code\",\n",
    "    model=\"gpt-3.5-turbo\",\n",
    ")    "
   ]
  },
  {
   "cell_type": "code",
   "execution_count": 7,
   "id": "09752c6e-48be-4f22-acf1-cc8d3437fdb2",
   "metadata": {},
   "outputs": [
    {
     "name": "stdout",
     "output_type": "stream",
     "text": [
      "Assistant(id='asst_4TJrMahdYNN0HWnVLwodXbPP', created_at=1700747668, description=None, file_ids=[], instructions='You are a professional developer, answer questions step by step, give concise code and only code', metadata={}, model='gpt-3.5-turbo', name='Professional developer', object='assistant', tools=[])\n"
     ]
    }
   ],
   "source": [
    "print(myIntern)"
   ]
  },
  {
   "cell_type": "raw",
   "id": "7ccd5449-41fe-4027-9447-08a11e0239a8",
   "metadata": {},
   "source": [
    "thread = client.beta.threads.create()"
   ]
  },
  {
   "cell_type": "code",
   "execution_count": 10,
   "id": "d76c9ff1-d043-4f02-b27b-722bb419c87e",
   "metadata": {},
   "outputs": [],
   "source": [
    "message = client.beta.threads.messages.create(\n",
    "    thread_id=thread.id,\n",
    "    role=\"user\",\n",
    "    content=\"\"\"Give me the reason point by point why I can't use encrypt = true in my typeorm configuration,\n",
    "    in fact as soon as I try to connect to my database using typeorm, the connection is lost when using the options encrypt to true.\"\"\",\n",
    ")"
   ]
  },
  {
   "cell_type": "code",
   "execution_count": 11,
   "id": "b9ddc08d-7422-48d2-a9f1-8d16d905451d",
   "metadata": {},
   "outputs": [],
   "source": [
    "run = client.beta.threads.runs.create(\n",
    "    thread_id=thread.id,\n",
    "    assistant_id=myIntern.id,\n",
    ")"
   ]
  },
  {
   "cell_type": "code",
   "execution_count": 12,
   "id": "8e255d77-b6e4-4c03-806f-9a91fdcf55b3",
   "metadata": {},
   "outputs": [],
   "source": [
    "import time\n",
    "\n",
    "def wait_on_run(run, thread):\n",
    "    while run.status == \"queued\" or run.status == \"in_progress\":\n",
    "        run = client.beta.threads.runs.retrieve(\n",
    "            thread_id=thread.id,\n",
    "            run_id=run.id,\n",
    "        )\n",
    "        time.sleep(0.5)\n",
    "    return run"
   ]
  },
  {
   "cell_type": "code",
   "execution_count": 13,
   "id": "3ec56480-a4ea-4b44-af8e-5778a266fefd",
   "metadata": {},
   "outputs": [],
   "source": [
    "run = wait_on_run(run, thread)\n"
   ]
  },
  {
   "cell_type": "code",
   "execution_count": 15,
   "id": "0254d7c5-b3a6-412b-a3c7-9711e04b159c",
   "metadata": {},
   "outputs": [],
   "source": [
    "messages = client.beta.threads.messages.list(thread_id=thread.id)\n"
   ]
  },
  {
   "cell_type": "code",
   "execution_count": 21,
   "id": "1836a3d5-5a81-4753-a053-549d6e02c605",
   "metadata": {},
   "outputs": [
    {
     "data": {
      "text/plain": [
       "{'data': [{'id': 'msg_9tJyEAcL6wPLIpbnjsp6zkC0',\n",
       "   'assistant_id': 'asst_WQp0jGVd4DMfFvNK4ELRgoyL',\n",
       "   'content': [{'text': {'annotations': [],\n",
       "      'value': 'There could be several reasons why you are facing issues when using the `encrypt` option in your TypeORM configuration:\\n\\n1. Incorrect configuration: Make sure you have provided the correct values for the `encrypt` option. It should be set to `true` if you want to encrypt the connection to the database.\\n\\n2. Incompatible database driver: Some database drivers may not support encryption. Ensure that you are using a database driver that supports encryption.\\n\\n3. Incorrect SSL/TLS configuration: Encryption for database connections often relies on SSL/TLS certificates. Make sure you have properly configured the SSL/TLS certificates for your database connection.\\n\\n4. Database server configuration: Check if your database server is properly configured to support encrypted connections. It may require additional setup or configuration changes to enable encryption.\\n\\n5. Network configuration: Network issues could cause the connection to drop when using encrypted connections. Check your network settings and firewall rules to ensure that the necessary ports are open for encrypted connections.\\n\\n6. Driver version compatibility: Check if you are using the latest version of your database driver. Sometimes older versions may have issues with encryption, and upgrading to the latest version could resolve the problem.\\n\\nIt is important to thoroughly investigate each of these points and ensure that all necessary configurations are correctly set up to utilize encryption with TypeORM.'},\n",
       "     'type': 'text'}],\n",
       "   'created_at': 1700747993,\n",
       "   'file_ids': [],\n",
       "   'metadata': {},\n",
       "   'object': 'thread.message',\n",
       "   'role': 'assistant',\n",
       "   'run_id': 'run_3jv31LhZxWBXC2X8lKFtlAYn',\n",
       "   'thread_id': 'thread_vtjR3XjlklockkhWa2KvhxHc'},\n",
       "  {'id': 'msg_JMoM77WdVo2rhn5eFHD8gGp9',\n",
       "   'assistant_id': None,\n",
       "   'content': [{'text': {'annotations': [],\n",
       "      'value': \"Give me the reason point by point why I can't use encrypt = true in my typeorm configuration,\\n    in fact as soon as I try to connect to my database using typeorm, the connection is lost when using the options encrypt to true.\"},\n",
       "     'type': 'text'}],\n",
       "   'created_at': 1700747942,\n",
       "   'file_ids': [],\n",
       "   'metadata': {},\n",
       "   'object': 'thread.message',\n",
       "   'role': 'user',\n",
       "   'run_id': None,\n",
       "   'thread_id': 'thread_vtjR3XjlklockkhWa2KvhxHc'}],\n",
       " 'object': 'list',\n",
       " 'first_id': 'msg_9tJyEAcL6wPLIpbnjsp6zkC0',\n",
       " 'last_id': 'msg_JMoM77WdVo2rhn5eFHD8gGp9',\n",
       " 'has_more': False}"
      ]
     },
     "metadata": {},
     "output_type": "display_data"
    }
   ],
   "source": [
    "show_json(messages)"
   ]
  },
  {
   "cell_type": "code",
   "execution_count": 22,
   "id": "9a661a14-201f-473e-97e1-48e62f2180a2",
   "metadata": {},
   "outputs": [],
   "source": [
    "# Create a message to append to our thread\n",
    "message = client.beta.threads.messages.create(\n",
    "    thread_id=thread.id, role=\"user\", content=\"Give me some example that could solve considering the point number 4 in your last answer\"\n",
    ")"
   ]
  },
  {
   "cell_type": "code",
   "execution_count": 24,
   "id": "15af8b34-4867-4c28-b614-aad7add2d62e",
   "metadata": {},
   "outputs": [],
   "source": [
    "# Execute our run\n",
    "run = client.beta.threads.runs.create(\n",
    "    thread_id=thread.id,\n",
    "    assistant_id=myIntern.id,\n",
    ")"
   ]
  },
  {
   "cell_type": "code",
   "execution_count": 25,
   "id": "ef024ea6-51d3-440f-8851-4d2af8a4ad7e",
   "metadata": {},
   "outputs": [
    {
     "data": {
      "text/plain": [
       "Run(id='run_A4VpqHG7pSTyN5zAPI65Fmdp', assistant_id='asst_WQp0jGVd4DMfFvNK4ELRgoyL', cancelled_at=None, completed_at=1700748573, created_at=1700748564, expires_at=None, failed_at=None, file_ids=[], instructions='You are a professional developer, answer questions step by step, give concise code', last_error=None, metadata={}, model='gpt-3.5-turbo', object='thread.run', required_action=None, started_at=1700748564, status='completed', thread_id='thread_vtjR3XjlklockkhWa2KvhxHc', tools=[])"
      ]
     },
     "execution_count": 25,
     "metadata": {},
     "output_type": "execute_result"
    }
   ],
   "source": [
    "# Wait for completion\n",
    "wait_on_run(run, thread)"
   ]
  },
  {
   "cell_type": "code",
   "execution_count": 26,
   "id": "44352a75-9d3b-48bf-a830-c4260d50df1a",
   "metadata": {},
   "outputs": [],
   "source": [
    "# Retrieve all the messages added after our last user message\n",
    "messages = client.beta.threads.messages.list(\n",
    "    thread_id=thread.id, order=\"asc\", after=message.id\n",
    ")"
   ]
  },
  {
   "cell_type": "code",
   "execution_count": 27,
   "id": "0adbdc62-1263-434e-a423-2d92ed3a15f0",
   "metadata": {},
   "outputs": [
    {
     "data": {
      "text/plain": [
       "{'data': [{'id': 'msg_YtgKwpts8t841CRRYwBqoZw6',\n",
       "   'assistant_id': 'asst_WQp0jGVd4DMfFvNK4ELRgoyL',\n",
       "   'content': [{'text': {'annotations': [],\n",
       "      'value': 'To address point number 4, which is related to the database server configuration, you can take the following steps:\\n\\n1. Check the documentation: Review the documentation of your specific database server to understand the requirements and steps involved in enabling encrypted connections.\\n\\n2. Enable SSL/TLS on the database server: Configure your database server to use SSL/TLS for incoming connections. This typically involves generating or obtaining SSL/TLS certificates and configuring the server to use them.\\n\\n3. Set the appropriate options in TypeORM: Update your TypeORM configuration to include the necessary SSL/TLS options specific to your database server. This may include options like `ssl`, `ca`, `cert`, `key`, etc.\\n\\nHere is an example of a TypeORM configuration for a PostgreSQL database server using SSL/TLS encryption:\\n\\n```javascript\\n{\\n  ...\\n  \"type\": \"postgres\",\\n  \"host\": \"YOUR_DB_HOST\",\\n  \"port\": YOUR_DB_PORT,\\n  \"username\": \"YOUR_DB_USERNAME\",\\n  \"password\": \"YOUR_DB_PASSWORD\",\\n  \"database\": \"YOUR_DB_NAME\",\\n  \"ssl\": true,\\n  \"extra\": {\\n    \"ssl\": {\\n      \"rejectUnauthorized\": false,\\n      \"ca\": \"path_to_ca_certificate\",\\n      \"cert\": \"path_to_client_certificate\",\\n      \"key\": \"path_to_client_private_key\"\\n    }\\n  }\\n  ...\\n}\\n```\\n\\nIn the above example, we set `ssl` to `true` to enable SSL/TLS encryption, and provide the paths to the necessary SSL/TLS certificate files.\\n\\nNote that the exact configuration may vary depending on your specific database server and setup. Consult your database server documentation or the documentation of your database driver for more detailed instructions.'},\n",
       "     'type': 'text'}],\n",
       "   'created_at': 1700748565,\n",
       "   'file_ids': [],\n",
       "   'metadata': {},\n",
       "   'object': 'thread.message',\n",
       "   'role': 'assistant',\n",
       "   'run_id': 'run_A4VpqHG7pSTyN5zAPI65Fmdp',\n",
       "   'thread_id': 'thread_vtjR3XjlklockkhWa2KvhxHc'}],\n",
       " 'object': 'list',\n",
       " 'first_id': 'msg_YtgKwpts8t841CRRYwBqoZw6',\n",
       " 'last_id': 'msg_YtgKwpts8t841CRRYwBqoZw6',\n",
       " 'has_more': False}"
      ]
     },
     "metadata": {},
     "output_type": "display_data"
    }
   ],
   "source": [
    "show_json(messages)"
   ]
  },
  {
   "cell_type": "code",
   "execution_count": 28,
   "id": "3bcd3369-306f-450a-9e73-8c0f779db43b",
   "metadata": {},
   "outputs": [],
   "source": [
    "from IPython.display import display, Markdown"
   ]
  },
  {
   "cell_type": "code",
   "execution_count": 45,
   "id": "b77fef16-277a-46bc-8805-d0b88b1aa1c1",
   "metadata": {},
   "outputs": [
    {
     "data": {
      "text/plain": [
       "'To address point number 4, which is related to the database server configuration, you can take the following steps:\\n\\n1. Check the documentation: Review the documentation of your specific database server to understand the requirements and steps involved in enabling encrypted connections.\\n\\n2. Enable SSL/TLS on the database server: Configure your database server to use SSL/TLS for incoming connections. This typically involves generating or obtaining SSL/TLS certificates and configuring the server to use them.\\n\\n3. Set the appropriate options in TypeORM: Update your TypeORM configuration to include the necessary SSL/TLS options specific to your database server. This may include options like `ssl`, `ca`, `cert`, `key`, etc.\\n\\nHere is an example of a TypeORM configuration for a PostgreSQL database server using SSL/TLS encryption:\\n\\n```javascript\\n{\\n  ...\\n  \"type\": \"postgres\",\\n  \"host\": \"YOUR_DB_HOST\",\\n  \"port\": YOUR_DB_PORT,\\n  \"username\": \"YOUR_DB_USERNAME\",\\n  \"password\": \"YOUR_DB_PASSWORD\",\\n  \"database\": \"YOUR_DB_NAME\",\\n  \"ssl\": true,\\n  \"extra\": {\\n    \"ssl\": {\\n      \"rejectUnauthorized\": false,\\n      \"ca\": \"path_to_ca_certificate\",\\n      \"cert\": \"path_to_client_certificate\",\\n      \"key\": \"path_to_client_private_key\"\\n    }\\n  }\\n  ...\\n}\\n```\\n\\nIn the above example, we set `ssl` to `true` to enable SSL/TLS encryption, and provide the paths to the necessary SSL/TLS certificate files.\\n\\nNote that the exact configuration may vary depending on your specific database server and setup. Consult your database server documentation or the documentation of your database driver for more detailed instructions.'"
      ]
     },
     "execution_count": 45,
     "metadata": {},
     "output_type": "execute_result"
    }
   ],
   "source": [
    "messages.data[0].content[0].text.value"
   ]
  },
  {
   "cell_type": "code",
   "execution_count": 46,
   "id": "430a6e7c-a534-453c-a428-8f0c3c3963b0",
   "metadata": {},
   "outputs": [
    {
     "data": {
      "text/markdown": [
       "To address point number 4, which is related to the database server configuration, you can take the following steps:\n",
       "\n",
       "1. Check the documentation: Review the documentation of your specific database server to understand the requirements and steps involved in enabling encrypted connections.\n",
       "\n",
       "2. Enable SSL/TLS on the database server: Configure your database server to use SSL/TLS for incoming connections. This typically involves generating or obtaining SSL/TLS certificates and configuring the server to use them.\n",
       "\n",
       "3. Set the appropriate options in TypeORM: Update your TypeORM configuration to include the necessary SSL/TLS options specific to your database server. This may include options like `ssl`, `ca`, `cert`, `key`, etc.\n",
       "\n",
       "Here is an example of a TypeORM configuration for a PostgreSQL database server using SSL/TLS encryption:\n",
       "\n",
       "```javascript\n",
       "{\n",
       "  ...\n",
       "  \"type\": \"postgres\",\n",
       "  \"host\": \"YOUR_DB_HOST\",\n",
       "  \"port\": YOUR_DB_PORT,\n",
       "  \"username\": \"YOUR_DB_USERNAME\",\n",
       "  \"password\": \"YOUR_DB_PASSWORD\",\n",
       "  \"database\": \"YOUR_DB_NAME\",\n",
       "  \"ssl\": true,\n",
       "  \"extra\": {\n",
       "    \"ssl\": {\n",
       "      \"rejectUnauthorized\": false,\n",
       "      \"ca\": \"path_to_ca_certificate\",\n",
       "      \"cert\": \"path_to_client_certificate\",\n",
       "      \"key\": \"path_to_client_private_key\"\n",
       "    }\n",
       "  }\n",
       "  ...\n",
       "}\n",
       "```\n",
       "\n",
       "In the above example, we set `ssl` to `true` to enable SSL/TLS encryption, and provide the paths to the necessary SSL/TLS certificate files.\n",
       "\n",
       "Note that the exact configuration may vary depending on your specific database server and setup. Consult your database server documentation or the documentation of your database driver for more detailed instructions."
      ],
      "text/plain": [
       "<IPython.core.display.Markdown object>"
      ]
     },
     "metadata": {},
     "output_type": "display_data"
    }
   ],
   "source": [
    "display(Markdown(messages.data[0].content[0].text.value))"
   ]
  }
 ],
 "metadata": {
  "kernelspec": {
   "display_name": "venv",
   "language": "python",
   "name": "venv"
  },
  "language_info": {
   "codemirror_mode": {
    "name": "ipython",
    "version": 3
   },
   "file_extension": ".py",
   "mimetype": "text/x-python",
   "name": "python",
   "nbconvert_exporter": "python",
   "pygments_lexer": "ipython3",
   "version": "3.10.10"
  }
 },
 "nbformat": 4,
 "nbformat_minor": 5
}
